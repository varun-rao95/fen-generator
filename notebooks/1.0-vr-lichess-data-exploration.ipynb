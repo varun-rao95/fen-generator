{
 "cells": [
  {
   "cell_type": "code",
   "execution_count": 81,
   "metadata": {},
   "outputs": [],
   "source": [
    "import requests\n",
    "import json"
   ]
  },
  {
   "cell_type": "code",
   "execution_count": 76,
   "metadata": {},
   "outputs": [],
   "source": [
    "import os\n",
    "\n",
    "LICHESS_TOKEN = os.getenv(\"LICHESS_TOKEN\")\n",
    "headers = {\"Authorization\": \"Bearer {}\".format(LICHESS_TOKEN)}"
   ]
  },
  {
   "cell_type": "code",
   "execution_count": 93,
   "metadata": {},
   "outputs": [
    {
     "name": "stdout",
     "output_type": "stream",
     "text": [
      "varun_rao\n"
     ]
    }
   ],
   "source": [
    "test_url = \"https://lichess.org/api/account\"\n",
    "r = requests.get(test_url, headers=headers)\n",
    "\n",
    "username = r.json().get('username')\n",
    "print(username)"
   ]
  },
  {
   "cell_type": "code",
   "execution_count": 96,
   "metadata": {},
   "outputs": [
    {
     "name": "stdout",
     "output_type": "stream",
     "text": [
      "200\n"
     ]
    }
   ],
   "source": [
    "games_url = \"https://lichess.org/api/games/user/{}\".format(username)\n",
    "headers.update({\"Accept\": \"application/x-ndjson\"})\n",
    "r = requests.get(games_url, headers=headers)\n",
    "\n",
    "print(r.status_code)"
   ]
  },
  {
   "cell_type": "code",
   "execution_count": 97,
   "metadata": {
    "scrolled": true
   },
   "outputs": [],
   "source": [
    "dump = [json.loads(text) for text in r.text.split('\\n')[:-1]]\n",
    "with open('../data/raw/dump.json', 'w') as outfile:\n",
    "    json.dump(dump, outfile)"
   ]
  },
  {
   "cell_type": "code",
   "execution_count": null,
   "metadata": {},
   "outputs": [],
   "source": []
  }
 ],
 "metadata": {
  "kernelspec": {
   "display_name": "Python 3",
   "language": "python",
   "name": "python3"
  },
  "language_info": {
   "codemirror_mode": {
    "name": "ipython",
    "version": 3
   },
   "file_extension": ".py",
   "mimetype": "text/x-python",
   "name": "python",
   "nbconvert_exporter": "python",
   "pygments_lexer": "ipython3",
   "version": "3.6.8"
  }
 },
 "nbformat": 4,
 "nbformat_minor": 2
}
